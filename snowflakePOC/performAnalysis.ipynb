{
 "cells": [
  {
   "cell_type": "code",
   "execution_count": 1,
   "metadata": {},
   "outputs": [],
   "source": [
    "import pandas as pd\n",
    "import json\n",
    "import os\n",
    "from snowflake.connector import connect\n",
    "\n",
    "# Read the config.json file\n",
    "with open('config.json', 'r') as file:\n",
    "    config = json.load(file)\n",
    "\n",
    "# Connection setup\n",
    "conn = connect(\n",
    "  user=config['user'],\n",
    "  password=config['password'],\n",
    "  account= config['account'],\n",
    ")"
   ]
  },
  {
   "cell_type": "markdown",
   "metadata": {},
   "source": [
    "# 1. Fetch Data from Snowflake"
   ]
  },
  {
   "cell_type": "code",
   "execution_count": 2,
   "metadata": {},
   "outputs": [
    {
     "data": {
      "text/plain": [
       "<snowflake.connector.cursor.SnowflakeCursor at 0x7fe32fa26c90>"
      ]
     },
     "execution_count": 2,
     "metadata": {},
     "output_type": "execute_result"
    }
   ],
   "source": [
    "conn.cursor().execute(f\"USE WAREHOUSE {config['warehouse']}\")\n",
    "conn.cursor().execute(f\"USE DATABASE {config['database']}\")\n",
    "conn.cursor().execute(f\"USE SCHEMA {config['schema']}\")"
   ]
  },
  {
   "cell_type": "code",
   "execution_count": 3,
   "metadata": {},
   "outputs": [
    {
     "name": "stdout",
     "output_type": "stream",
     "text": [
      "   PID  MANUFACTURER     group CONTENT UNIT PHARMFORM  GENERICPRODUCT  \\\n",
      "0    1             1      2FOI      80   ST       TAB               0   \n",
      "1    2             1      2FOI      80   ST       Tab               0   \n",
      "2    3             1      2FOI      10    G       GLO               0   \n",
      "3    4             1      2FOI      80   ST       TAB               0   \n",
      "4    5             2  10OJ03JS       8   ST       PUL               0   \n",
      "\n",
      "   SALESINDEX  CATEGORY CAMPAIGNINDEX    RRP  \n",
      "0          40       NaN          None  10.89  \n",
      "1          40       NaN          None  10.89  \n",
      "2          40       NaN          None  16.45  \n",
      "3          40       NaN          None  10.89  \n",
      "4          40       1.0          None  22.53  \n"
     ]
    }
   ],
   "source": [
    "# Define the SQL query to fetch the data from the table\n",
    "query = \"SELECT * FROM \" + config['testtable']\n",
    "\n",
    "# Execute the query and load the result into a DataFrame\n",
    "df = pd.read_sql(query, conn)\n",
    "\n",
    "# Close the connection\n",
    "conn.close()\n",
    "\n",
    "# Print the first 5 rows\n",
    "print(df.head())\n"
   ]
  },
  {
   "cell_type": "markdown",
   "metadata": {},
   "source": [
    "# 2. Perform Analyses"
   ]
  },
  {
   "cell_type": "markdown",
   "metadata": {},
   "source": [
    "### 2.1 Descriptive Statistics"
   ]
  },
  {
   "cell_type": "code",
   "execution_count": 4,
   "metadata": {},
   "outputs": [
    {
     "name": "stdout",
     "output_type": "stream",
     "text": [
      "                PID  MANUFACTURER  GENERICPRODUCT    SALESINDEX      CATEGORY  \\\n",
      "count  22035.000000  22035.000000    22035.000000  22035.000000  17408.000000   \n",
      "mean   11018.000000    222.488042        0.033674     48.367461    113.933996   \n",
      "std     6361.100927    223.103100        0.180392      6.166422     93.823387   \n",
      "min        1.000000      1.000000        0.000000     40.000000      1.000000   \n",
      "25%     5509.500000     60.000000        0.000000     40.000000     35.000000   \n",
      "50%    11018.000000    156.000000        0.000000     53.000000     90.000000   \n",
      "75%    16526.500000    311.000000        0.000000     53.000000    169.000000   \n",
      "max    22035.000000   1067.000000        1.000000     53.000000    409.000000   \n",
      "\n",
      "                RRP  \n",
      "count  22035.000000  \n",
      "mean      17.861648  \n",
      "std       19.823213  \n",
      "min        0.070000  \n",
      "25%        7.260000  \n",
      "50%       12.080000  \n",
      "75%       21.270000  \n",
      "max      404.970000  \n"
     ]
    }
   ],
   "source": [
    "summary = df.describe()\n",
    "print(summary)"
   ]
  },
  {
   "cell_type": "markdown",
   "metadata": {},
   "source": [
    "The descriptive statistics provide a summary of the numerical columns in the dataset:\n",
    "\n",
    "- pid: Ranges from 1 to 22035, representing product IDs.\n",
    "- manufacturer: Manufacturer IDs, ranging from 1 to 1067.\n",
    "- genericProduct: Binary indicator for generic products, with values of 0 or 1.\n",
    "- salesIndex: Sales index ranging from 40 to 53.\n",
    "- category: Category ID, ranging from 1 to 409 (some missing values).\n",
    "- rrp: Recommended retail price, ranging from 0.07 to 404.97."
   ]
  },
  {
   "cell_type": "markdown",
   "metadata": {},
   "source": [
    "### 2.2 Correlation Analysis"
   ]
  },
  {
   "cell_type": "code",
   "execution_count": 5,
   "metadata": {},
   "outputs": [
    {
     "name": "stdout",
     "output_type": "stream",
     "text": [
      "                     PID  MANUFACTURER  GENERICPRODUCT  SALESINDEX  CATEGORY  \\\n",
      "PID             1.000000      0.202037       -0.048586    0.183852  0.085262   \n",
      "MANUFACTURER    0.202037      1.000000       -0.025484    0.211010  0.065263   \n",
      "GENERICPRODUCT -0.048586     -0.025484        1.000000   -0.253311 -0.066375   \n",
      "SALESINDEX      0.183852      0.211010       -0.253311    1.000000 -0.045341   \n",
      "CATEGORY        0.085262      0.065263       -0.066375   -0.045341  1.000000   \n",
      "RRP             0.036015      0.058095       -0.020167   -0.010174  0.002696   \n",
      "\n",
      "                     RRP  \n",
      "PID             0.036015  \n",
      "MANUFACTURER    0.058095  \n",
      "GENERICPRODUCT -0.020167  \n",
      "SALESINDEX     -0.010174  \n",
      "CATEGORY        0.002696  \n",
      "RRP             1.000000  \n"
     ]
    }
   ],
   "source": [
    "correlation_matrix = df.corr()\n",
    "print(correlation_matrix)"
   ]
  },
  {
   "cell_type": "markdown",
   "metadata": {},
   "source": [
    "The correlation matrix shows the linear relationship between the numerical variables in the dataset:\n",
    "\n",
    "- pid and manufacturer: Positive correlation (0.202), indicating that higher product IDs tend to have higher manufacturer IDs.\n",
    "- genericProduct and salesIndex: Negative correlation (-0.253), implying that generic products tend to have lower sales indices.\n",
    "- Other correlations are relatively weak."
   ]
  },
  {
   "cell_type": "markdown",
   "metadata": {},
   "source": [
    "### 2.3 Clustering and Segmentation"
   ]
  },
  {
   "cell_type": "markdown",
   "metadata": {},
   "source": [
    "- Segmenting the products into 3 clusters based on the manufacturer, salesIndex, and rrp columns."
   ]
  },
  {
   "cell_type": "code",
   "execution_count": 13,
   "metadata": {},
   "outputs": [
    {
     "data": {
      "text/html": [
       "<div>\n",
       "<style scoped>\n",
       "    .dataframe tbody tr th:only-of-type {\n",
       "        vertical-align: middle;\n",
       "    }\n",
       "\n",
       "    .dataframe tbody tr th {\n",
       "        vertical-align: top;\n",
       "    }\n",
       "\n",
       "    .dataframe thead th {\n",
       "        text-align: right;\n",
       "    }\n",
       "</style>\n",
       "<table border=\"1\" class=\"dataframe\">\n",
       "  <thead>\n",
       "    <tr style=\"text-align: right;\">\n",
       "      <th></th>\n",
       "      <th>MANUFACTURER</th>\n",
       "      <th>SALESINDEX</th>\n",
       "      <th>RRP</th>\n",
       "    </tr>\n",
       "  </thead>\n",
       "  <tbody>\n",
       "    <tr>\n",
       "      <th>0</th>\n",
       "      <td>1</td>\n",
       "      <td>40</td>\n",
       "      <td>10.89</td>\n",
       "    </tr>\n",
       "    <tr>\n",
       "      <th>1</th>\n",
       "      <td>1</td>\n",
       "      <td>40</td>\n",
       "      <td>10.89</td>\n",
       "    </tr>\n",
       "    <tr>\n",
       "      <th>2</th>\n",
       "      <td>1</td>\n",
       "      <td>40</td>\n",
       "      <td>16.45</td>\n",
       "    </tr>\n",
       "    <tr>\n",
       "      <th>3</th>\n",
       "      <td>1</td>\n",
       "      <td>40</td>\n",
       "      <td>10.89</td>\n",
       "    </tr>\n",
       "    <tr>\n",
       "      <th>4</th>\n",
       "      <td>2</td>\n",
       "      <td>40</td>\n",
       "      <td>22.53</td>\n",
       "    </tr>\n",
       "  </tbody>\n",
       "</table>\n",
       "</div>"
      ],
      "text/plain": [
       "   MANUFACTURER  SALESINDEX    RRP\n",
       "0             1          40  10.89\n",
       "1             1          40  10.89\n",
       "2             1          40  16.45\n",
       "3             1          40  10.89\n",
       "4             2          40  22.53"
      ]
     },
     "execution_count": 13,
     "metadata": {},
     "output_type": "execute_result"
    }
   ],
   "source": [
    "from sklearn.cluster import KMeans\n",
    "\n",
    "# Assuming you want to cluster into 3 groups\n",
    "kmeans = KMeans(n_clusters=3)\n",
    "df['cluster'] = kmeans.fit_predict(df[['MANUFACTURER', 'SALESINDEX', 'RRP']])\n",
    "df[['MANUFACTURER', 'SALESINDEX', 'RRP']].head()"
   ]
  },
  {
   "cell_type": "markdown",
   "metadata": {},
   "source": [
    "The clustering has segmented the products into three clusters based on the manufacturer, salesIndex, and rrp columns. "
   ]
  },
  {
   "cell_type": "markdown",
   "metadata": {},
   "source": [
    "### 2.4 Visualization"
   ]
  },
  {
   "cell_type": "code",
   "execution_count": 15,
   "metadata": {},
   "outputs": [
    {
     "data": {
      "image/png": "[encoded data removed]",
      "text/plain": [
       "<Figure size 640x480 with 1 Axes>"
      ]
     },
     "metadata": {},
     "output_type": "display_data"
    }
   ],
   "source": [
    "import matplotlib.pyplot as plt\n",
    "\n",
    "# Histogram for the Recommended Retail Price (rrp)\n",
    "plt.hist(df['RRP'], bins=20)\n",
    "plt.title('Distribution of Recommended Retail Prices')\n",
    "plt.xlabel('Price')\n",
    "plt.ylabel('Frequency')\n",
    "plt.show()"
   ]
  },
  {
   "cell_type": "markdown",
   "metadata": {},
   "source": [
    "- The histogram visualizes the distribution of the Recommended Retail Prices (rrp) in the dataset. From the graph, we can see that most of the products have prices in the lower range, with a few products having higher prices."
   ]
  },
  {
   "cell_type": "markdown",
   "metadata": {},
   "source": [
    "# 3. Potential predictive modeling scenario (example)"
   ]
  },
  {
   "cell_type": "markdown",
   "metadata": {},
   "source": [
    "### 3.1 Predicting Recommended Retail Price (RRP)\n",
    "- Target Variable: rrp (Recommended Retail Price)\n",
    "- Features: Other variables like manufacturer, group, content, unit, pharmForm, genericProduct, salesIndex, category\n",
    "\n",
    "* Model Options:\n",
    "- Linear Regression: Suitable for predicting a continuous outcome.\n",
    "- Random Forest Regressor: A more complex model that can capture non-linear relationships.\n"
   ]
  },
  {
   "cell_type": "code",
   "execution_count": 20,
   "metadata": {},
   "outputs": [
    {
     "data": {
      "text/plain": [
       "(0.0022361873400572607, 11.73935710320384)"
      ]
     },
     "execution_count": 20,
     "metadata": {},
     "output_type": "execute_result"
    }
   ],
   "source": [
    "from sklearn.linear_model import LinearRegression\n",
    "from sklearn.model_selection import train_test_split\n",
    "from sklearn.metrics import r2_score, mean_absolute_error\n",
    "\n",
    "# Selecting Features and Target\n",
    "X = df[['MANUFACTURER', 'GENERICPRODUCT', 'SALESINDEX', 'CATEGORY']].fillna(0) # Example features\n",
    "y = df['RRP']\n",
    "\n",
    "# Splitting data into training and testing sets\n",
    "X_train, X_test, y_train, y_test = train_test_split(X, y, test_size=0.2, random_state=42)\n",
    "\n",
    "# Creating the model\n",
    "model = LinearRegression()\n",
    "\n",
    "# Training the model\n",
    "model.fit(X_train, y_train)\n",
    "\n",
    "# Making predictions on the test set\n",
    "predictions = model.predict(X_test)\n",
    "\n",
    "# Evaluating the model using R^2 score and Mean Absolute Error\n",
    "r2 = r2_score(y_test, predictions)\n",
    "mae = mean_absolute_error(y_test, predictions)\n",
    "\n",
    "r2, mae\n"
   ]
  },
  {
   "cell_type": "markdown",
   "metadata": {},
   "source": [
    "#### R² Score: \n",
    "- 0.0022 (Approximately)\n",
    "#### Mean Absolute Error (MAE): \n",
    "- 11.74\n",
    "### Interpretation:\n",
    "- R² Score: The R² score indicates the proportion of the variance in the dependent variable that is predictable from the independent variables. A value close to 1 indicates a good fit, while a value close to 0 indicates a poor fit. In this case, the R² score is very close to 0, suggesting that the model does not explain much of the variability in the RRP.\n",
    "- Mean Absolute Error: The MAE measures the average absolute error between the true values and the predicted values. A lower MAE is generally better. In this case, the MAE is 11.74, which means that, on average, the predictions are off by this amount.\n",
    "\n",
    "### Possible Improvements:\n",
    "The current model's performance is not satisfactory, and there might be several reasons for this. Here are some potential improvements:\n",
    "\n",
    "- Feature Engineering: Creating new features or transforming existing ones to capture more information.\n",
    "- Handling Categorical Variables: Encoding categorical variables appropriately (e.g., one-hot encoding for nominal categories).\n",
    "- Model Selection: Trying different algorithms that might be more suitable for this data.\n",
    "- Hyperparameter Tuning: Tuning the model's hyperparameters to optimize performance.\n",
    "These improvements require a more in-depth understanding of the data and the specific business problem, as well as iterative experimentation with different techniques."
   ]
  }
 ],
 "metadata": {
  "kernelspec": {
   "display_name": "venv",
   "language": "python",
   "name": "python3"
  },
  "language_info": {
   "codemirror_mode": {
    "name": "ipython",
    "version": 3
   },
   "file_extension": ".py",
   "mimetype": "text/x-python",
   "name": "python",
   "nbconvert_exporter": "python",
   "pygments_lexer": "ipython3",
   "version": "3.7.9"
  },
  "orig_nbformat": 4
 },
 "nbformat": 4,
 "nbformat_minor": 2
}
